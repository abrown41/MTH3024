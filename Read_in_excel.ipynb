{
  "cells": [
    {
      "cell_type": "markdown",
      "metadata": {
        "id": "LKqUajDglPNy"
      },
      "source": [
        "# Instructions  \n",
        "\n",
        "  This template contains examples on how to use the Pandas module to read external data in the XLSX format (format of files created by Microsoft Excel or another spreadsheet program).\n",
        "  \n",
        "  Reading external data from e.g. a spreadsheet is something that you will use for this project and is useful in general in modelling and simulation.\n",
        "\n",
        "  As well, we will see how installing packages, when they are not directly available.\n",
        "\n",
        "  There are no exercises associated with this repl, but read the code and predict what it will do on the basis of what explained below  \n",
        "\n",
        "  ## What is Pandas\n",
        "\n",
        "  Pandas is \"a data analysis and manipulation tool, built on top of the Python programming language\".\n",
        "\n",
        "  To use Pandas we use the `import` command:"
      ]
    },
    {
      "cell_type": "code",
      "execution_count": null,
      "metadata": {
        "id": "-C7HXE53lOji"
      },
      "outputs": [],
      "source": [
        "import pandas as pd\n",
        "import numpy as np"
      ]
    },
    {
      "cell_type": "markdown",
      "metadata": {
        "id": "LE9WViTPlUJF"
      },
      "source": [
        " Pandas can do much more than just reading a spreadsheet. It is used in many data science applications. See [the Pandas webpage](https://pandas.pydata.org/).\n",
        "\n",
        "   ## Reading data in CSV and Excel   \n",
        "\n",
        "  Pandas reads data in Excel format using\n"
      ]
    },
    {
      "cell_type": "code",
      "execution_count": null,
      "metadata": {
        "id": "FVK8nOlTkSDk"
      },
      "outputs": [],
      "source": [
        "data_frame1 = pd.read_excel('https://raw.githubusercontent.com/abrown41/MTH3024/main/Belfast_Bike_Data/BelfastBikeApr21.xlsx')"
      ]
    },
    {
      "cell_type": "markdown",
      "metadata": {
        "id": "5pRWVhmMlvz5"
      },
      "source": [
        "Here the URL ending in `BelfastBikeApr21.xlsx` points to the file to read. To load the data for a different month, just change the name of the file in the URL, e.g. \n",
        "\n",
        "    data_frame2 = pd.read_excel('https://raw.githubusercontent.com/abrown41/MTH3024/main/Belfast_Bike_Data/BelfastBikeMay21.xlsx')\n",
        "\n",
        "You can see which months' data are available [here](https://github.com/abrown41/MTH3024/blob/main/Belfast_Bike_Data/).\n",
        "\n",
        "Note the file name needs to be between quotes `''`. You can read details on how to use `read_excel` function from the [official documentation](https://pandas.pydata.org/docs/reference/api/pandas.read_excel.html).\n",
        "  \n",
        "\n",
        "The function returns a DataFrame that in this case is assigned to the variable `data_frame1`.\n",
        "\n",
        "A DataFrame is a \"two-dimensional, size-mutable, potentially heterogeneous tabular data.\" (see [the relevant documentantion webpage](https://pandas.pydata.org/docs/reference/api/pandas.DataFrame.html#pandas.DataFrame).)\n",
        "\n",
        "Printing the DataFrame `data_frame1` produces this output (only first 5 lines are shown here):\n",
        "\n",
        "\n",
        "  ```\n",
        "      Station_id  ...     p_end\n",
        "0         3902  ...  0.043877\n",
        "1         3903  ...  0.007400\n",
        "2         3904  ...  0.058120\n",
        "3         3905  ...  0.014669\n",
        "4         3906  ...  0.004650\n",
        "  ```\n",
        "\n",
        "that you can compare with the content of the Excel file.\n",
        "\n",
        "\n"
      ]
    },
    {
      "cell_type": "code",
      "execution_count": null,
      "metadata": {
        "colab": {
          "base_uri": "https://localhost:8080/"
        },
        "id": "XU_p68dcop-L",
        "outputId": "b1105c14-d9c5-41ab-a452-2dfecb7689e8"
      },
      "outputs": [
        {
          "name": "stdout",
          "output_type": "stream",
          "text": [
            "    Station_id                                      Station name  \\\n",
            "0         3902                                         City Hall   \n",
            "1         3903                                   Victoria Square   \n",
            "2         3904                                     Donegall Quay   \n",
            "3         3905                        Lanyon Station Mays Meadow   \n",
            "4         3906                 St Georges Market / Cromac Square   \n",
            "5         3907                          Gasworks (Cromac Street)   \n",
            "6         3908                                        Waterfront   \n",
            "7         3909                                    Botanic Avenue   \n",
            "8         3910            Europa Bus Station / Blackstaff Square   \n",
            "9         3911               Great Victoria Street / Hope Street   \n",
            "10        3912                       Castle Place / Royal avenue   \n",
            "11        3913                     Ormeau Road / Somerset Street   \n",
            "12        3914                                 Cathedral Gardens   \n",
            "13        3915                 Carrick Hill / St Patricks Church   \n",
            "14        3916                                       Ormeau Park   \n",
            "15        3917                                   Titanic Walkway   \n",
            "16        3918                                          Bankmore   \n",
            "17        3919                               College Square East   \n",
            "18        3920                          Millfield / Divis Street   \n",
            "19        3921                           Odyssey / Sydenham Road   \n",
            "20        3922                                Corporation Square   \n",
            "21        3923                                     Alfred Street   \n",
            "22        3924                                    Bradbury Place   \n",
            "23        3925                        Royal Avenue / Castlecourt   \n",
            "24        3926                                      Cotton Court   \n",
            "25        3927                          Gasworks (Lagan Towpath)   \n",
            "26        3928                 Linenhall / Donegall Square South   \n",
            "27        3929                 Arthur Street / Chichester Street   \n",
            "28        3930                  Ormeau Road / Rosetta Roundabout   \n",
            "29        3931                                       Stranmillis   \n",
            "30        3932                               Titanic Belfast Met   \n",
            "31        3933                            Queens University Road   \n",
            "32        3934               Queens University / Botanic Gardens   \n",
            "33        3935                             Belfast City Hospital   \n",
            "34        3936                           Royal Victoria Hospital   \n",
            "35        3937                     Mater Hospital / Crumlin Road   \n",
            "36        3938           Shankill Leisure Centre / Shankill Road   \n",
            "37        3939                                   Carslile Circus   \n",
            "38        3940                    Grosvenor Road / Servia Street   \n",
            "39        3941                                        Falls Road   \n",
            "40        3942  Girwood Community Hub / Cliftonville Park Avenue   \n",
            "41        3943                     Antrim Road / Duncairn Centre   \n",
            "42        3944                                          CS Lewis   \n",
            "43        3945                                           Skainos   \n",
            "44        3946                                        Connswater   \n",
            "45        3947                                       Fraser Pass   \n",
            "46        3948                                          AllState   \n",
            "\n",
            "    Start rate (hr^(-1))  p_(trip end)  Unnamed: 4  Unnamed: 5  Unnamed: 6  \n",
            "0               1.876324      0.043877         NaN    0.043855   42.784280  \n",
            "1               0.323543      0.007400         NaN    0.007562   42.784253  \n",
            "2               2.511800      0.058120         NaN         NaN         NaN  \n",
            "3               0.668637      0.014669         NaN         NaN         NaN  \n",
            "4               0.206105      0.004650         NaN         NaN         NaN  \n",
            "5               0.577778      0.013523         NaN         NaN         NaN  \n",
            "6               0.527891      0.012017         NaN         NaN         NaN  \n",
            "7               1.527778      0.036771         NaN         NaN         NaN  \n",
            "8               0.261111      0.006254         NaN         NaN         NaN  \n",
            "9               0.445457      0.009823         NaN         NaN         NaN  \n",
            "10              1.319444      0.032187         NaN         NaN         NaN  \n",
            "11              0.820771      0.019024         NaN         NaN         NaN  \n",
            "12              1.166221      0.027177         NaN         NaN         NaN  \n",
            "13              0.392832      0.008153         NaN         NaN         NaN  \n",
            "14              2.145833      0.050688         NaN         NaN         NaN  \n",
            "15              2.126389      0.049705         NaN         NaN         NaN  \n",
            "16              0.680755      0.015914         NaN         NaN         NaN  \n",
            "17              0.664639      0.014898         NaN         NaN         NaN  \n",
            "18              0.289058      0.006582         NaN         NaN         NaN  \n",
            "19              1.620525      0.037754         NaN         NaN         NaN  \n",
            "20              0.882319      0.019646         NaN         NaN         NaN  \n",
            "21              0.548869      0.013032         NaN         NaN         NaN  \n",
            "22              0.791527      0.018664         NaN         NaN         NaN  \n",
            "23              0.461409      0.010347         NaN         NaN         NaN  \n",
            "24              0.529590      0.011952         NaN         NaN         NaN  \n",
            "25              0.362500      0.008743         NaN         NaN         NaN  \n",
            "26              0.235687      0.004748         NaN         NaN         NaN  \n",
            "27              0.666667      0.016143         NaN         NaN         NaN  \n",
            "28              0.349680      0.007662         NaN         NaN         NaN  \n",
            "29              1.786111      0.042174         NaN         NaN         NaN  \n",
            "30              4.238889      0.100720         NaN         NaN         NaN  \n",
            "31              2.683545      0.062901         NaN         NaN         NaN  \n",
            "32              4.198611      0.100589         NaN         NaN         NaN  \n",
            "33              0.959926      0.022528         NaN         NaN         NaN  \n",
            "34              0.258922      0.005992         NaN         NaN         NaN  \n",
            "35              0.133396      0.000819         NaN         NaN         NaN  \n",
            "36              0.105556      0.003373         NaN         NaN         NaN  \n",
            "37              0.112908      0.001866         NaN         NaN         NaN  \n",
            "38              0.175000      0.004584         NaN         NaN         NaN  \n",
            "39              0.097222      0.003340         NaN         NaN         NaN  \n",
            "40              0.111782      0.000655         NaN         NaN         NaN  \n",
            "41              0.134592      0.002259         NaN         NaN         NaN  \n",
            "42              1.261111      0.030223         NaN         NaN         NaN  \n",
            "43              0.170565      0.003405         NaN         NaN         NaN  \n",
            "44              0.568056      0.013392         NaN         NaN         NaN  \n",
            "45              0.138889      0.003733         NaN         NaN         NaN  \n",
            "46              0.668056      0.017322         NaN         NaN         NaN  \n"
          ]
        }
      ],
      "source": [
        "print(data_frame1)"
      ]
    },
    {
      "cell_type": "markdown",
      "metadata": {
        "id": "Q_WlxP7QolRU"
      },
      "source": [
        "  ## Converting data into Numpy arrays   \n",
        "\n",
        "  For some applications, it may be needed to convert the data in the DataFrame into Numpy arrays.\n",
        "\n",
        "  Two steps are needed:\n",
        "\n",
        "  1. We have to rename the column headers to avoid spaces and some other symbols.\n",
        "  \n",
        "  2. The content of the three columns of interest in the DataFrame,  `Station_id`,`Start_rate_`, and `p_end` is converted into three numpy arrays using the method `to_numpy`."
      ]
    },
    {
      "cell_type": "code",
      "execution_count": null,
      "metadata": {
        "colab": {
          "base_uri": "https://localhost:8080/"
        },
        "id": "7qL_Ej6goQMi",
        "outputId": "d12e8b42-7f53-402c-8f47-997c44ac9988"
      },
      "outputs": [
        {
          "name": "stdout",
          "output_type": "stream",
          "text": [
            "    Station_id                                      Station_name  Start_rate_  \\\n",
            "0         3902                                         City Hall     1.876324   \n",
            "1         3903                                   Victoria Square     0.323543   \n",
            "2         3904                                     Donegall Quay     2.511800   \n",
            "3         3905                        Lanyon Station Mays Meadow     0.668637   \n",
            "4         3906                 St Georges Market / Cromac Square     0.206105   \n",
            "5         3907                          Gasworks (Cromac Street)     0.577778   \n",
            "6         3908                                        Waterfront     0.527891   \n",
            "7         3909                                    Botanic Avenue     1.527778   \n",
            "8         3910            Europa Bus Station / Blackstaff Square     0.261111   \n",
            "9         3911               Great Victoria Street / Hope Street     0.445457   \n",
            "10        3912                       Castle Place / Royal avenue     1.319444   \n",
            "11        3913                     Ormeau Road / Somerset Street     0.820771   \n",
            "12        3914                                 Cathedral Gardens     1.166221   \n",
            "13        3915                 Carrick Hill / St Patricks Church     0.392832   \n",
            "14        3916                                       Ormeau Park     2.145833   \n",
            "15        3917                                   Titanic Walkway     2.126389   \n",
            "16        3918                                          Bankmore     0.680755   \n",
            "17        3919                               College Square East     0.664639   \n",
            "18        3920                          Millfield / Divis Street     0.289058   \n",
            "19        3921                           Odyssey / Sydenham Road     1.620525   \n",
            "20        3922                                Corporation Square     0.882319   \n",
            "21        3923                                     Alfred Street     0.548869   \n",
            "22        3924                                    Bradbury Place     0.791527   \n",
            "23        3925                        Royal Avenue / Castlecourt     0.461409   \n",
            "24        3926                                      Cotton Court     0.529590   \n",
            "25        3927                          Gasworks (Lagan Towpath)     0.362500   \n",
            "26        3928                 Linenhall / Donegall Square South     0.235687   \n",
            "27        3929                 Arthur Street / Chichester Street     0.666667   \n",
            "28        3930                  Ormeau Road / Rosetta Roundabout     0.349680   \n",
            "29        3931                                       Stranmillis     1.786111   \n",
            "30        3932                               Titanic Belfast Met     4.238889   \n",
            "31        3933                            Queens University Road     2.683545   \n",
            "32        3934               Queens University / Botanic Gardens     4.198611   \n",
            "33        3935                             Belfast City Hospital     0.959926   \n",
            "34        3936                           Royal Victoria Hospital     0.258922   \n",
            "35        3937                     Mater Hospital / Crumlin Road     0.133396   \n",
            "36        3938           Shankill Leisure Centre / Shankill Road     0.105556   \n",
            "37        3939                                   Carslile Circus     0.112908   \n",
            "38        3940                    Grosvenor Road / Servia Street     0.175000   \n",
            "39        3941                                        Falls Road     0.097222   \n",
            "40        3942  Girwood Community Hub / Cliftonville Park Avenue     0.111782   \n",
            "41        3943                     Antrim Road / Duncairn Centre     0.134592   \n",
            "42        3944                                          CS Lewis     1.261111   \n",
            "43        3945                                           Skainos     0.170565   \n",
            "44        3946                                        Connswater     0.568056   \n",
            "45        3947                                       Fraser Pass     0.138889   \n",
            "46        3948                                          AllState     0.668056   \n",
            "\n",
            "       p_end  Unnamed:_4  Unnamed:_5  Unnamed:_6  \n",
            "0   0.043877         NaN    0.043855   42.784280  \n",
            "1   0.007400         NaN    0.007562   42.784253  \n",
            "2   0.058120         NaN         NaN         NaN  \n",
            "3   0.014669         NaN         NaN         NaN  \n",
            "4   0.004650         NaN         NaN         NaN  \n",
            "5   0.013523         NaN         NaN         NaN  \n",
            "6   0.012017         NaN         NaN         NaN  \n",
            "7   0.036771         NaN         NaN         NaN  \n",
            "8   0.006254         NaN         NaN         NaN  \n",
            "9   0.009823         NaN         NaN         NaN  \n",
            "10  0.032187         NaN         NaN         NaN  \n",
            "11  0.019024         NaN         NaN         NaN  \n",
            "12  0.027177         NaN         NaN         NaN  \n",
            "13  0.008153         NaN         NaN         NaN  \n",
            "14  0.050688         NaN         NaN         NaN  \n",
            "15  0.049705         NaN         NaN         NaN  \n",
            "16  0.015914         NaN         NaN         NaN  \n",
            "17  0.014898         NaN         NaN         NaN  \n",
            "18  0.006582         NaN         NaN         NaN  \n",
            "19  0.037754         NaN         NaN         NaN  \n",
            "20  0.019646         NaN         NaN         NaN  \n",
            "21  0.013032         NaN         NaN         NaN  \n",
            "22  0.018664         NaN         NaN         NaN  \n",
            "23  0.010347         NaN         NaN         NaN  \n",
            "24  0.011952         NaN         NaN         NaN  \n",
            "25  0.008743         NaN         NaN         NaN  \n",
            "26  0.004748         NaN         NaN         NaN  \n",
            "27  0.016143         NaN         NaN         NaN  \n",
            "28  0.007662         NaN         NaN         NaN  \n",
            "29  0.042174         NaN         NaN         NaN  \n",
            "30  0.100720         NaN         NaN         NaN  \n",
            "31  0.062901         NaN         NaN         NaN  \n",
            "32  0.100589         NaN         NaN         NaN  \n",
            "33  0.022528         NaN         NaN         NaN  \n",
            "34  0.005992         NaN         NaN         NaN  \n",
            "35  0.000819         NaN         NaN         NaN  \n",
            "36  0.003373         NaN         NaN         NaN  \n",
            "37  0.001866         NaN         NaN         NaN  \n",
            "38  0.004584         NaN         NaN         NaN  \n",
            "39  0.003340         NaN         NaN         NaN  \n",
            "40  0.000655         NaN         NaN         NaN  \n",
            "41  0.002259         NaN         NaN         NaN  \n",
            "42  0.030223         NaN         NaN         NaN  \n",
            "43  0.003405         NaN         NaN         NaN  \n",
            "44  0.013392         NaN         NaN         NaN  \n",
            "45  0.003733         NaN         NaN         NaN  \n",
            "46  0.017322         NaN         NaN         NaN  \n"
          ]
        }
      ],
      "source": [
        "#\n",
        "# Make sure headers do not have spaces or symbols such as ( or ^\n",
        "#\n",
        "data_frame1.columns = [c.replace(' ', '_') for c in data_frame1.columns]\n",
        "data_frame1.columns = [c.replace('(hr^(-1))', '') for c in data_frame1.columns]\n",
        "data_frame1.columns = [c.replace('(trip_end)', 'end') for c in data_frame1.columns]\n",
        "print(data_frame1)"
      ]
    },
    {
      "cell_type": "code",
      "execution_count": null,
      "metadata": {
        "id": "mWL8c1e4mELq"
      },
      "outputs": [],
      "source": [
        "start_rate= data_frame1.Start_rate_.to_numpy()\n",
        "end_prob= data_frame1.p_end.to_numpy()\n",
        "station_id = data_frame1.Station_id.to_numpy()"
      ]
    },
    {
      "cell_type": "markdown",
      "metadata": {
        "id": "Qp67EH2nposa"
      },
      "source": [
        "The subsequent lines of code, print out the content, dimension and type of the element of the array. Compare this with the content of the original file."
      ]
    },
    {
      "cell_type": "code",
      "execution_count": null,
      "metadata": {
        "colab": {
          "base_uri": "https://localhost:8080/"
        },
        "id": "NutfLLYOpgjh",
        "outputId": "4a348126-d63d-4f4b-f772-98696941a309"
      },
      "outputs": [
        {
          "name": "stdout",
          "output_type": "stream",
          "text": [
            "Content of start_rate element:\n",
            "  [1.8763243  0.32354265 2.5118004  0.66863739 0.20610517 0.57777778\n",
            " 0.5278907  1.52777778 0.26111111 0.44545663 1.31944444 0.82077052\n",
            " 1.16622133 0.39283192 2.14583333 2.12638889 0.6807551  0.66463895\n",
            " 0.28905809 1.62052479 0.88231924 0.54886883 0.79152731 0.4614094\n",
            " 0.52958978 0.3625     0.23568735 0.66666667 0.34967981 1.78611111\n",
            " 4.23888889 2.68354501 4.19861111 0.95992622 0.25892154 0.13339611\n",
            " 0.10555556 0.11290793 0.175      0.09722222 0.1117818  0.13459205\n",
            " 1.26111111 0.1705653  0.56805556 0.13888889 0.66805556]\n",
            "Content of end_prob element:\n",
            "  [0.04387688 0.00740013 0.0581205  0.01466929 0.00464964 0.01352325\n",
            " 0.01201703 0.03677145 0.00625409 0.00982318 0.0321873  0.01902423\n",
            " 0.02717747 0.00815324 0.05068762 0.0497053  0.01591356 0.01489849\n",
            " 0.00658153 0.03775377 0.01964637 0.01303209 0.01866405 0.01034709\n",
            " 0.01195154 0.00874263 0.00474787 0.01614276 0.00766208 0.0421742\n",
            " 0.10072037 0.06290111 0.10058939 0.02252783 0.00599214 0.0008186\n",
            " 0.00337263 0.0018664  0.00458415 0.00333988 0.00065488 0.00225933\n",
            " 0.03022266 0.00340537 0.01339227 0.00373281 0.01732155]\n",
            "Content of station_id element:\n",
            "  [3902 3903 3904 3905 3906 3907 3908 3909 3910 3911 3912 3913 3914 3915\n",
            " 3916 3917 3918 3919 3920 3921 3922 3923 3924 3925 3926 3927 3928 3929\n",
            " 3930 3931 3932 3933 3934 3935 3936 3937 3938 3939 3940 3941 3942 3943\n",
            " 3944 3945 3946 3947 3948]\n",
            "Dimension of start_rate element:  (47,)\n",
            "Dimension of end_prob element:  (47,)\n",
            "Dimension of station_id element:  (47,)\n",
            "Type of start_rate element:  <class 'numpy.float64'>\n",
            "Type of end_prob element:  <class 'numpy.float64'>\n",
            "Type of station_id element:  <class 'numpy.int64'>\n"
          ]
        }
      ],
      "source": [
        "#\n",
        "# Print content, shape and type of each array\n",
        "#\n",
        "print('Content of start_rate element:\\n ',start_rate)\n",
        "print('Content of end_prob element:\\n ',end_prob)\n",
        "print('Content of station_id element:\\n ',station_id)\n",
        "#\n",
        "print('Dimension of start_rate element: ',np.shape(start_rate))\n",
        "print('Dimension of end_prob element: ',np.shape(end_prob))\n",
        "print('Dimension of station_id element: ',np.shape(station_id))\n",
        "#\n",
        "print('Type of start_rate element: ',type(start_rate[0]))\n",
        "print('Type of end_prob element: ',type(end_prob[0]))\n",
        "print('Type of station_id element: ',type(station_id[0]))\n"
      ]
    }
  ],
  "metadata": {
    "colab": {
      "provenance": []
    },
    "kernelspec": {
      "display_name": "Python 3",
      "name": "python3"
    },
    "language_info": {
      "name": "python"
    }
  },
  "nbformat": 4,
  "nbformat_minor": 0
}
